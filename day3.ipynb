{
 "cells": [
  {
   "cell_type": "code",
   "execution_count": 1,
   "id": "5bff1d5b",
   "metadata": {},
   "outputs": [
    {
     "name": "stdout",
     "output_type": "stream",
     "text": [
      "Dhiman Bharadwaj\n"
     ]
    }
   ],
   "source": [
    "name = 'Dhiman'\n",
    "surname = 'Bharadwaj'\n",
    "fullname = name + \" \" + surname\n",
    "print(fullname)"
   ]
  },
  {
   "cell_type": "markdown",
   "id": "3a5aec1e",
   "metadata": {},
   "source": [
    "## String indexing"
   ]
  },
  {
   "cell_type": "code",
   "execution_count": 2,
   "id": "cfc07a28",
   "metadata": {},
   "outputs": [
    {
     "name": "stdout",
     "output_type": "stream",
     "text": [
      "a\n",
      "n\n"
     ]
    }
   ],
   "source": [
    "str = 'banana'\n",
    "\n",
    "letter = str[1]\n",
    "print(letter)\n",
    "\n",
    "x = 3\n",
    "\n",
    "print(str[x-1])"
   ]
  },
  {
   "cell_type": "markdown",
   "id": "882747f6",
   "metadata": {},
   "source": [
    "## String properties "
   ]
  },
  {
   "cell_type": "code",
   "execution_count": 3,
   "id": "205ec3f2",
   "metadata": {},
   "outputs": [
    {
     "name": "stdout",
     "output_type": "stream",
     "text": [
      "6\n"
     ]
    }
   ],
   "source": [
    "fruit = 'banana'\n",
    "x = len(fruit)  # len prints the length of the total characters in a string. it also includes the blank spaces present in te string\n",
    "print(x)"
   ]
  },
  {
   "cell_type": "markdown",
   "id": "f64dba86",
   "metadata": {},
   "source": [
    "## Looping trough a String"
   ]
  },
  {
   "cell_type": "code",
   "execution_count": 4,
   "id": "d20c318c",
   "metadata": {},
   "outputs": [
    {
     "name": "stdout",
     "output_type": "stream",
     "text": [
      "0 b\n",
      "1 a\n",
      "2 n\n",
      "3 a\n",
      "4 n\n",
      "5 a\n"
     ]
    }
   ],
   "source": [
    "fruit = 'banana'\n",
    "index = 0\n",
    "\n",
    "while index < len(fruit):\n",
    "    letter = fruit[index]\n",
    "    print(index, letter)\n",
    "    index += 1"
   ]
  },
  {
   "cell_type": "code",
   "execution_count": 5,
   "id": "816ca582",
   "metadata": {},
   "outputs": [
    {
     "name": "stdout",
     "output_type": "stream",
     "text": [
      "0 b\n",
      "1 a\n",
      "2 n\n",
      "3 a\n",
      "4 n\n",
      "5 a\n"
     ]
    }
   ],
   "source": [
    "fruit = 'banana'\n",
    "index = 0\n",
    "x = len(fruit)\n",
    "\n",
    "for index in range(x):\n",
    "    letter = fruit[index]\n",
    "    print(index, letter)\n",
    "    index += 1\n",
    "    "
   ]
  },
  {
   "cell_type": "code",
   "execution_count": 6,
   "id": "0cc68851",
   "metadata": {},
   "outputs": [
    {
     "name": "stdout",
     "output_type": "stream",
     "text": [
      "0 b\n",
      "1 a\n",
      "2 n\n",
      "3 a\n",
      "4 n\n",
      "5 a\n"
     ]
    }
   ],
   "source": [
    "fruit = 'banana'\n",
    "index = 0\n",
    "\n",
    "for index in range(len(fruit)):\n",
    "    letter = fruit[index]\n",
    "    print(index, letter)\n",
    "    index += 1\n",
    "    "
   ]
  },
  {
   "cell_type": "code",
   "execution_count": 7,
   "id": "82d21bd4",
   "metadata": {},
   "outputs": [
    {
     "name": "stdout",
     "output_type": "stream",
     "text": [
      "3\n"
     ]
    }
   ],
   "source": [
    "fruit = 'banana'\n",
    "count = 0\n",
    "index = 0\n",
    "\n",
    "for index in range(len(fruit)):\n",
    "    if (fruit[index] == 'a'):\n",
    "        count += 1\n",
    "\n",
    "print(count)\n",
    "    \n",
    "    \n",
    "    # also find the lengh of the string later without using len function"
   ]
  },
  {
   "cell_type": "markdown",
   "id": "42bd1b0f",
   "metadata": {},
   "source": [
    "## String slicing"
   ]
  },
  {
   "cell_type": "code",
   "execution_count": 8,
   "id": "c918ad93",
   "metadata": {},
   "outputs": [
    {
     "name": "stdout",
     "output_type": "stream",
     "text": [
      "Hell\n",
      "Hlo ol!\n",
      "Hello\n",
      "Hello, World!\n"
     ]
    }
   ],
   "source": [
    "str = \"Hello, World!\"\n",
    "print(str[0:4])\n",
    "print(str[0:13:2]) # skips and print in inteval of 2 positions \n",
    "print(str[:5]) # prints from index 0 (as default) to index 4 (5-1)\n",
    "print(str[:]) # it will take the entire string"
   ]
  },
  {
   "cell_type": "markdown",
   "id": "58ced8c5",
   "metadata": {},
   "source": [
    "# Using 'in' as a Logical Operator"
   ]
  },
  {
   "cell_type": "code",
   "execution_count": 9,
   "id": "c8ccd368",
   "metadata": {},
   "outputs": [
    {
     "name": "stdout",
     "output_type": "stream",
     "text": [
      "True\n",
      "False\n",
      "True\n",
      "False\n"
     ]
    }
   ],
   "source": [
    "fruit = 'banana'\n",
    "\n",
    "a = 'n' in fruit\n",
    "b = 's' in fruit\n",
    "c = 'ban' in fruit\n",
    "d = 'ban ' in fruit # contains a space after 'n' thats why it printed False\n",
    "\n",
    "print(a)\n",
    "print(b)\n",
    "print(c)\n",
    "print(d)"
   ]
  },
  {
   "cell_type": "code",
   "execution_count": 10,
   "id": "73980493",
   "metadata": {},
   "outputs": [
    {
     "data": {
      "text/plain": [
       "str"
      ]
     },
     "execution_count": 10,
     "metadata": {},
     "output_type": "execute_result"
    }
   ],
   "source": [
    "stuff = 'Hello World'\n",
    "\n",
    "type(stuff)\n",
    "\n"
   ]
  },
  {
   "cell_type": "code",
   "execution_count": 11,
   "id": "58fb9b35",
   "metadata": {},
   "outputs": [
    {
     "data": {
      "text/plain": [
       "['__add__',\n",
       " '__class__',\n",
       " '__contains__',\n",
       " '__delattr__',\n",
       " '__dir__',\n",
       " '__doc__',\n",
       " '__eq__',\n",
       " '__format__',\n",
       " '__ge__',\n",
       " '__getattribute__',\n",
       " '__getitem__',\n",
       " '__getnewargs__',\n",
       " '__getstate__',\n",
       " '__gt__',\n",
       " '__hash__',\n",
       " '__init__',\n",
       " '__init_subclass__',\n",
       " '__iter__',\n",
       " '__le__',\n",
       " '__len__',\n",
       " '__lt__',\n",
       " '__mod__',\n",
       " '__mul__',\n",
       " '__ne__',\n",
       " '__new__',\n",
       " '__reduce__',\n",
       " '__reduce_ex__',\n",
       " '__repr__',\n",
       " '__rmod__',\n",
       " '__rmul__',\n",
       " '__setattr__',\n",
       " '__sizeof__',\n",
       " '__str__',\n",
       " '__subclasshook__',\n",
       " 'capitalize',\n",
       " 'casefold',\n",
       " 'center',\n",
       " 'count',\n",
       " 'encode',\n",
       " 'endswith',\n",
       " 'expandtabs',\n",
       " 'find',\n",
       " 'format',\n",
       " 'format_map',\n",
       " 'index',\n",
       " 'isalnum',\n",
       " 'isalpha',\n",
       " 'isascii',\n",
       " 'isdecimal',\n",
       " 'isdigit',\n",
       " 'isidentifier',\n",
       " 'islower',\n",
       " 'isnumeric',\n",
       " 'isprintable',\n",
       " 'isspace',\n",
       " 'istitle',\n",
       " 'isupper',\n",
       " 'join',\n",
       " 'ljust',\n",
       " 'lower',\n",
       " 'lstrip',\n",
       " 'maketrans',\n",
       " 'partition',\n",
       " 'removeprefix',\n",
       " 'removesuffix',\n",
       " 'replace',\n",
       " 'rfind',\n",
       " 'rindex',\n",
       " 'rjust',\n",
       " 'rpartition',\n",
       " 'rsplit',\n",
       " 'rstrip',\n",
       " 'split',\n",
       " 'splitlines',\n",
       " 'startswith',\n",
       " 'strip',\n",
       " 'swapcase',\n",
       " 'title',\n",
       " 'translate',\n",
       " 'upper',\n",
       " 'zfill']"
      ]
     },
     "execution_count": 11,
     "metadata": {},
     "output_type": "execute_result"
    }
   ],
   "source": [
    "stuff = 'Hello World'\n",
    "\n",
    "dir(stuff)"
   ]
  },
  {
   "cell_type": "markdown",
   "id": "c997f13f",
   "metadata": {},
   "source": [
    "# #NUMPY (Numerical Python)"
   ]
  },
  {
   "cell_type": "code",
   "execution_count": 12,
   "id": "682c9a0e",
   "metadata": {},
   "outputs": [
    {
     "name": "stdout",
     "output_type": "stream",
     "text": [
      "[1 2 3 4 5]\n",
      "2.3.2\n"
     ]
    }
   ],
   "source": [
    "import numpy as np\n",
    "\n",
    "arr = np.array([1, 2, 3, 4, 5])\n",
    "print(arr)\n",
    "print(np.__version__)"
   ]
  },
  {
   "cell_type": "code",
   "execution_count": 13,
   "id": "9aad0c25",
   "metadata": {},
   "outputs": [
    {
     "name": "stdout",
     "output_type": "stream",
     "text": [
      "[[1 2 3]\n",
      " [4 5 6]]\n"
     ]
    }
   ],
   "source": [
    "import numpy as np\n",
    "\n",
    "arr = np.array([[1,2,3],[4,5,6]])  # 2D array\n",
    "print(arr)"
   ]
  },
  {
   "cell_type": "code",
   "execution_count": 14,
   "id": "ec483739",
   "metadata": {},
   "outputs": [
    {
     "name": "stdout",
     "output_type": "stream",
     "text": [
      "[[[1 2 3]\n",
      "  [4 5 6]]\n",
      "\n",
      " [[1 2 3]\n",
      "  [4 5 6]]]\n"
     ]
    }
   ],
   "source": [
    "import numpy as np\n",
    "\n",
    "arr = np.array([[[1,2,3], [4,5,6]], [[1,2,3],[4,5,6]]])  # 3D array\n",
    "print(arr)"
   ]
  },
  {
   "cell_type": "code",
   "execution_count": 15,
   "id": "079a3559",
   "metadata": {},
   "outputs": [
    {
     "name": "stdout",
     "output_type": "stream",
     "text": [
      "0\n",
      "1\n",
      "2\n",
      "3\n"
     ]
    }
   ],
   "source": [
    "import numpy as np\n",
    "\n",
    "a = np.array(42)\n",
    "b = np.array([1, 2, 3, 4, 5])\n",
    "c = np.array([[1,2,3],[4,5,6]])\n",
    "d = np.array([[[1,2,3], [4,5,6]], [[1,2,3],[4,5,6]]])\n",
    "\n",
    "print(a.ndim) # .ndim prints the dimenstion of the array\n",
    "print(b.ndim)\n",
    "print(c.ndim)\n",
    "print(d.ndim)"
   ]
  },
  {
   "cell_type": "code",
   "execution_count": 16,
   "id": "1f3e4421",
   "metadata": {},
   "outputs": [
    {
     "name": "stdout",
     "output_type": "stream",
     "text": [
      "[[[[[1 2 3 4]]]]]\n",
      "Number of dimensions:  5\n"
     ]
    }
   ],
   "source": [
    "arr = np.array([1,2,3,4], ndmin=5)\n",
    "print(arr)\n",
    "print('Number of dimensions: ', arr.ndim)"
   ]
  },
  {
   "cell_type": "code",
   "execution_count": 17,
   "id": "10a5dbb5",
   "metadata": {},
   "outputs": [
    {
     "name": "stdout",
     "output_type": "stream",
     "text": [
      "2nd element on the first row:  2\n"
     ]
    }
   ],
   "source": [
    "arr = np.array([[1,2,3,4,5],[6,7,8,9,10]])\n",
    "print('2nd element on the first row: ', arr[0,1])"
   ]
  },
  {
   "cell_type": "markdown",
   "id": "638b64b2",
   "metadata": {},
   "source": [
    "### Iterating through an array"
   ]
  },
  {
   "cell_type": "code",
   "execution_count": 18,
   "id": "4c87ebe8",
   "metadata": {},
   "outputs": [
    {
     "name": "stdout",
     "output_type": "stream",
     "text": [
      "1\n",
      "2\n",
      "3\n",
      "4\n",
      "5\n",
      "6\n",
      "7\n",
      "8\n"
     ]
    }
   ],
   "source": [
    "arr = np.array([[[1,2],[3,4]], [[5,6],[7,8]]])\n",
    "for x in np.nditer(arr):\n",
    "    print(x)"
   ]
  },
  {
   "cell_type": "markdown",
   "id": "7a7f361f",
   "metadata": {},
   "source": [
    "### Concatenation of arrays"
   ]
  },
  {
   "cell_type": "code",
   "execution_count": 19,
   "id": "fc603dc6",
   "metadata": {},
   "outputs": [
    {
     "name": "stdout",
     "output_type": "stream",
     "text": [
      "[1 2 3 4 5 6]\n"
     ]
    }
   ],
   "source": [
    "import numpy as np\n",
    "\n",
    "arr1 = np.array([1,2,3])\n",
    "arr2 = np.array([4,5,6])\n",
    "\n",
    "arr = np.concatenate((arr1, arr2))\n",
    "print(arr)\n",
    "\n"
   ]
  },
  {
   "cell_type": "code",
   "execution_count": 20,
   "id": "2a0b648e",
   "metadata": {},
   "outputs": [
    {
     "name": "stdout",
     "output_type": "stream",
     "text": [
      "(array([3, 5, 6]),)\n",
      "(array([], dtype=int64),)\n"
     ]
    }
   ],
   "source": [
    "arr = np.array([1,2,3,4,5,4,4])\n",
    "x = np.where(arr == 4)\n",
    "print(x)\n",
    "y = np.where(arr == 7) \n",
    "print(y)              "
   ]
  },
  {
   "cell_type": "markdown",
   "id": "d77e81be",
   "metadata": {},
   "source": [
    "## Sorting arrays\n",
    "\n",
    "sort function dosn't return the orignial array it rathers return a sorted duplicate copy"
   ]
  },
  {
   "cell_type": "code",
   "execution_count": 21,
   "id": "733e013d",
   "metadata": {},
   "outputs": [
    {
     "name": "stdout",
     "output_type": "stream",
     "text": [
      "[0 1 2 3]\n"
     ]
    }
   ],
   "source": [
    "arr = np.array([3,2,0,1])\n",
    "print(np.sort(arr))\n"
   ]
  },
  {
   "cell_type": "markdown",
   "id": "2ab4c6fb",
   "metadata": {},
   "source": [
    "### Filtering an array"
   ]
  },
  {
   "cell_type": "code",
   "execution_count": 22,
   "id": "3a771200",
   "metadata": {},
   "outputs": [
    {
     "name": "stdout",
     "output_type": "stream",
     "text": [
      "[41 43]\n"
     ]
    }
   ],
   "source": [
    "arr = np.array([41,42,43,44])\n",
    "x = [True, False, True, False]\n",
    "newarr = arr[x]\n",
    "print(newarr)           # returns the elements of the array where the condition is True"
   ]
  },
  {
   "cell_type": "markdown",
   "id": "2823d5bb",
   "metadata": {},
   "source": [
    "# List in Python & List Operations\n",
    "\n",
    "collection of items of same data type store inside [ ]"
   ]
  },
  {
   "cell_type": "code",
   "execution_count": 23,
   "id": "baa8ae1d",
   "metadata": {},
   "outputs": [
    {
     "name": "stdout",
     "output_type": "stream",
     "text": [
      "[1, 2, 3, 4, 5, 6]\n",
      "[1, 2, 3, 4, 5, 6, 7, 8, 9]\n",
      "[0, 1, 2, 3, 4, 5, 6, 7, 8, 9]\n",
      "[0, 1, 2, 3, 4, 5, 6, 7, 8]\n",
      "[0, 1, 2, 4, 5, 6, 7, 8]\n"
     ]
    }
   ],
   "source": [
    "lst = [1, 2, 3, 4, 5]\n",
    "\n",
    "lst.append(6)  # adding an element to the end of the list\n",
    "print(lst)\n",
    "lst.extend([7, 8, 9])  # adding multiple elements to the end of the list\n",
    "print(lst)\n",
    "lst.insert(0, 0)  # inserting an element at the beginning of the list\n",
    "print(lst)\n",
    "lst.pop() # removing the last element of the list\n",
    "print(lst)\n",
    "lst.remove(3)  # removing the first occurrence of the element 3\n",
    "print(lst)  "
   ]
  },
  {
   "cell_type": "markdown",
   "id": "90fbf767",
   "metadata": {},
   "source": [
    "# Dictionaries\n",
    "\n",
    "Collection of different key value pairs which can have different data types and are mutable "
   ]
  },
  {
   "cell_type": "code",
   "execution_count": 24,
   "id": "bb53f68d",
   "metadata": {},
   "outputs": [
    {
     "name": "stdout",
     "output_type": "stream",
     "text": [
      "{'money': 10000, 'color': 'red', 'candy': 3, 'coins': 12}\n"
     ]
    }
   ],
   "source": [
    "purse = {\n",
    "    \"money\": 10000,\n",
    "    \"color\": 'red',\n",
    "    \"candy\": 3,\n",
    "    \"coins\": 12,\n",
    "}\n",
    "\n",
    "print(purse)"
   ]
  },
  {
   "cell_type": "code",
   "execution_count": 25,
   "id": "3d606370",
   "metadata": {},
   "outputs": [
    {
     "name": "stdout",
     "output_type": "stream",
     "text": [
      "{'money': 1000, 'color': 'red', 'candy': 3, 'coins': 12}\n",
      "{'money': 2000, 'color': 'red', 'candy': 5, 'coins': 12}\n"
     ]
    }
   ],
   "source": [
    "purse = dict()\n",
    "\n",
    "purse['money'] = 1000\n",
    "purse['color'] = 'red'\n",
    "purse['candy'] = 3\n",
    "purse['coins'] = 12\n",
    "\n",
    "print(purse)\n",
    "\n",
    "purse['money'] = 2000 # updating the value of money\n",
    "\n",
    "purse['candy'] = purse['candy'] + 2 # incrementing the value of candy by 2\n",
    "print(purse)\n"
   ]
  },
  {
   "cell_type": "markdown",
   "id": "341d1fb0",
   "metadata": {},
   "source": [
    "# File Processing "
   ]
  },
  {
   "cell_type": "code",
   "execution_count": 26,
   "id": "38fd8043",
   "metadata": {},
   "outputs": [
    {
     "name": "stdout",
     "output_type": "stream",
     "text": [
      "<_io.TextIOWrapper name='text.txt' mode='r' encoding='utf-8'>\n"
     ]
    }
   ],
   "source": [
    "file_1 = open('text.txt')  # by default the file is opened in read mode\n",
    "print(file_1)"
   ]
  },
  {
   "cell_type": "code",
   "execution_count": 27,
   "id": "6c036aa8",
   "metadata": {},
   "outputs": [
    {
     "name": "stdout",
     "output_type": "stream",
     "text": [
      "This is a kickstart to your python deveopment\n"
     ]
    }
   ],
   "source": [
    "file_1= open('text.txt')\n",
    "\n",
    "for file in file_1:\n",
    "    print(file)\n",
    "    \n",
    "file_1.close()\n"
   ]
  },
  {
   "cell_type": "code",
   "execution_count": 29,
   "id": "e34fd335",
   "metadata": {},
   "outputs": [],
   "source": [
    "fhand = open('text2.txt')\n",
    "for line in fhand:\n",
    "    if line.startswith('From:'):\n",
    "        print(line)"
   ]
  },
  {
   "cell_type": "markdown",
   "id": "7b957bfd",
   "metadata": {},
   "source": [
    "## NORNAL/ GAUSSIAN DISTRIBUTION\n",
    "\n",
    "When mean = median = mode then its called as normal destribution\n",
    "\n",
    "mean is the average value\n",
    "medium is the middle most value\n",
    "mode is the most occuring value"
   ]
  },
  {
   "cell_type": "code",
   "execution_count": 30,
   "id": "7410944a",
   "metadata": {},
   "outputs": [],
   "source": [
    "import numpy"
   ]
  },
  {
   "cell_type": "code",
   "execution_count": 7,
   "id": "ad59193b",
   "metadata": {},
   "outputs": [
    {
     "name": "stdout",
     "output_type": "stream",
     "text": [
      "[[-1.23881406 -0.9364458   0.43604285]\n",
      " [ 0.52117389  2.05633599 -0.43165984]]\n"
     ]
    }
   ],
   "source": [
    "from numpy import random\n",
    "import matplotlib.pyplot as plt\n",
    "import seaborn as sns\n",
    "x=random.normal(size=(2,3))\n",
    "print(x)"
   ]
  },
  {
   "cell_type": "code",
   "execution_count": 8,
   "id": "d268d205",
   "metadata": {},
   "outputs": [
    {
     "name": "stdout",
     "output_type": "stream",
     "text": [
      "[[-1.03483502  0.0833602   2.9266236 ]\n",
      " [ 2.17970569 -2.36786811 -0.54664582]]\n"
     ]
    }
   ],
   "source": [
    "x = random.normal(size = 1000) \n",
    "\n",
    "x = random.normal(loc = 1, scale = 2, size = (2,3))\n",
    "\n",
    "print(x)"
   ]
  },
  {
   "cell_type": "code",
   "execution_count": 10,
   "id": "816fc83f",
   "metadata": {},
   "outputs": [
    {
     "data": {
      "image/png": "[encoded data removed]",
      "text/plain": [
       "<Figure size 500x500 with 1 Axes>"
      ]
     },
     "metadata": {},
     "output_type": "display_data"
    }
   ],
   "source": [
    "sns.displot(random.normal(size=1000), kind='kde')\n",
    "plt.show()"
   ]
  },
  {
   "cell_type": "code",
   "execution_count": 12,
   "id": "86e70d73",
   "metadata": {},
   "outputs": [
    {
     "data": {
      "image/png": "[encoded data removed]",
      "text/plain": [
       "<Figure size 500x500 with 1 Axes>"
      ]
     },
     "metadata": {},
     "output_type": "display_data"
    },
    {
     "name": "stdout",
     "output_type": "stream",
     "text": [
      "[[ 3.47987542  1.45198376  2.09442019]\n",
      " [-2.18223632  0.88598326 -0.17924923]]\n"
     ]
    }
   ],
   "source": [
    "import numpy as np\n",
    "from numpy import random\n",
    "import matplotlib.pyplot as plt\n",
    "import seaborn as sns\n",
    "x=random.normal(size=(2,3))\n",
    "x=random.normal(size=1000)\n",
    "x=random.normal(loc=1, scale=2, size=(2,3))\n",
    "sns.displot(random.normal(size=1000), kde=True, color='red')\n",
    "plt.show()\n",
    "print(x)"
   ]
  },
  {
   "cell_type": "markdown",
   "id": "0122bdcf",
   "metadata": {},
   "source": [
    "### Given 10 trials for coin toss generate 1000 data points:"
   ]
  },
  {
   "cell_type": "code",
   "execution_count": null,
   "id": "47066d17",
   "metadata": {},
   "outputs": [
    {
     "data": {
      "image/png": "[encoded data removed]",
      "text/plain": [
       "<Figure size 500x500 with 1 Axes>"
      ]
     },
     "metadata": {},
     "output_type": "display_data"
    }
   ],
   "source": [
    "from numpy import random\n",
    "import matplotlib.pyplot as plt\n",
    "import seaborn as sns\n",
    "\n",
    "sns.displot(random.binomial(n=10, p =0.5, size = 1000), kde = True, color='blue')\n",
    "# sns.distplot(random.binomial(n=10, p =0.5, size = 1000), hist = True, kde= Flase)\n",
    "plt.title('Binomial Distribution (n=10, p=0.5)')\n",
    "plt.show()"
   ]
  },
  {
   "cell_type": "code",
   "execution_count": 17,
   "id": "69c7f770",
   "metadata": {},
   "outputs": [
    {
     "name": "stdout",
     "output_type": "stream",
     "text": [
      "[2 2 0 2 3 2 2 0 4 3]\n"
     ]
    }
   ],
   "source": [
    "from numpy import random\n",
    "x = random.poisson(lam = 2, size = 10)\n",
    "print(x)"
   ]
  },
  {
   "cell_type": "code",
   "execution_count": null,
   "id": "8c12ab14",
   "metadata": {},
   "outputs": [
    {
     "data": {
      "image/png": "[encoded data removed]",
      "text/plain": [
       "<Figure size 500x500 with 1 Axes>"
      ]
     },
     "metadata": {},
     "output_type": "display_data"
    }
   ],
   "source": [
    "from numpy import random\n",
    "import matplotlib.pyplot as plt\n",
    "import seaborn as sns   \n",
    "\n",
    "sns.displot(random.poisson(lam = 2, size = 1000), kde = True, color='green')\n",
    "# for both linear and bar graphs put kde = True and for just a bar graph put kde = False\n",
    "plt.show()"
   ]
  }
 ],
 "metadata": {
  "kernelspec": {
   "display_name": "base",
   "language": "python",
   "name": "python3"
  },
  "language_info": {
   "codemirror_mode": {
    "name": "ipython",
    "version": 3
   },
   "file_extension": ".py",
   "mimetype": "text/x-python",
   "name": "python",
   "nbconvert_exporter": "python",
   "pygments_lexer": "ipython3",
   "version": "3.13.5"
  }
 },
 "nbformat": 4,
 "nbformat_minor": 5
}
