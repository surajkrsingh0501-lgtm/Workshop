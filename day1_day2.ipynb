{
 "cells": [
  {
   "cell_type": "markdown",
   "id": "5bdb6da2-3307-4791-87a0-24cec955be93",
   "metadata": {},
   "source": [
    "# my first python program"
   ]
  },
  {
   "cell_type": "markdown",
   "id": "145b8384-a826-4b8f-8509-8f817794449a",
   "metadata": {},
   "source": [
    "## my first python program (using ##)"
   ]
  },
  {
   "cell_type": "markdown",
   "id": "86133021-b6f7-46de-a1fd-a1a04f4100f1",
   "metadata": {},
   "source": [
    "### my first python program"
   ]
  },
  {
   "cell_type": "markdown",
   "id": "f51cd8d4-e97e-47fe-b18f-bfc261c24237",
   "metadata": {},
   "source": [
    "# Basic math operations"
   ]
  },
  {
   "cell_type": "code",
   "execution_count": 1,
   "id": "11fa8dba-368e-459a-8304-3bd91d44d0f5",
   "metadata": {},
   "outputs": [
    {
     "name": "stdout",
     "output_type": "stream",
     "text": [
      "55\n"
     ]
    }
   ],
   "source": [
    "a = 25\n",
    "b = 30\n",
    "c = a+b\n",
    "print(c)\n"
   ]
  },
  {
   "cell_type": "code",
   "execution_count": 2,
   "id": "b07429fb-b9d1-4e40-946c-a2a0aabc2ce7",
   "metadata": {},
   "outputs": [
    {
     "name": "stdout",
     "output_type": "stream",
     "text": [
      "55\n"
     ]
    }
   ],
   "source": [
    "# or\n",
    "print(a+b)\n"
   ]
  },
  {
   "cell_type": "code",
   "execution_count": 3,
   "id": "c2cf5ccf-de81-4608-a782-2491bf521279",
   "metadata": {},
   "outputs": [
    {
     "name": "stdout",
     "output_type": "stream",
     "text": [
      "5\n"
     ]
    }
   ],
   "source": [
    "print(b-a)"
   ]
  },
  {
   "cell_type": "code",
   "execution_count": 4,
   "id": "1201bdc2-d4e7-4f54-84d8-a5119bc94d30",
   "metadata": {},
   "outputs": [
    {
     "name": "stdout",
     "output_type": "stream",
     "text": [
      "867361737988403547205962240695953369140625\n"
     ]
    }
   ],
   "source": [
    "print(a**b)"
   ]
  },
  {
   "cell_type": "code",
   "execution_count": 5,
   "id": "285a7f1b-6620-4168-9b0d-e9319b3b296c",
   "metadata": {},
   "outputs": [
    {
     "name": "stdout",
     "output_type": "stream",
     "text": [
      "5\n"
     ]
    }
   ],
   "source": [
    "d=2\n",
    "e=3\n",
    "d = d+e\n",
    "print(d)"
   ]
  },
  {
   "cell_type": "code",
   "execution_count": 6,
   "id": "7daa5a10-2b82-40ad-992a-5ef545bc2172",
   "metadata": {},
   "outputs": [
    {
     "name": "stdout",
     "output_type": "stream",
     "text": [
      "hello there 1\n"
     ]
    }
   ],
   "source": [
    "eee = \"hello \" + \"there\"\n",
    "eee = eee + \" \" + str(1) # typecasting to avoid error during concatanation of different data types\n",
    "print(eee)"
   ]
  },
  {
   "cell_type": "code",
   "execution_count": 7,
   "id": "4d7a15aa-d3e6-4c77-9e0b-068c4c0aa1b8",
   "metadata": {},
   "outputs": [
    {
     "data": {
      "text/plain": [
       "str"
      ]
     },
     "execution_count": 7,
     "metadata": {},
     "output_type": "execute_result"
    }
   ],
   "source": [
    "type(eee)"
   ]
  },
  {
   "cell_type": "code",
   "execution_count": 8,
   "id": "4ebee614-6377-485b-bcd3-50f4eb2cef36",
   "metadata": {},
   "outputs": [
    {
     "name": "stdout",
     "output_type": "stream",
     "text": [
      "Who are you:  Dhiman\n",
      "Enter age:  20\n"
     ]
    },
    {
     "name": "stdout",
     "output_type": "stream",
     "text": [
      "Hello,  Dhiman ...  Your age is:  20\n"
     ]
    }
   ],
   "source": [
    "name = input(\"Who are you: \")       # whatever input is given is taken as a string, typecast it accordingly\n",
    "age = int(input(\"Enter age: \"))\n",
    "print(\"Hello, \", name,\"...\", \" Your age is: \", age)"
   ]
  },
  {
   "cell_type": "markdown",
   "id": "a77b7545-82d6-4da7-99a9-e9f0a63cba23",
   "metadata": {},
   "source": [
    "# CONDITIONAL STATEMENTS "
   ]
  },
  {
   "cell_type": "markdown",
   "id": "b79d36d6-3191-4e07-a96f-46719c31217f",
   "metadata": {},
   "source": [
    "## if Statements"
   ]
  },
  {
   "cell_type": "code",
   "execution_count": 9,
   "id": "9b860428-a3c4-4df4-ae5f-80a9e7be6080",
   "metadata": {},
   "outputs": [
    {
     "name": "stdout",
     "output_type": "stream",
     "text": [
      "Enter your age:  16\n"
     ]
    },
    {
     "name": "stdout",
     "output_type": "stream",
     "text": [
      "You can't vote..\n"
     ]
    }
   ],
   "source": [
    "age = int(input(\"Enter your age: \"))\n",
    "\n",
    "if(age>18):\n",
    "    print(\"Eligible to vote..\")\n",
    "if(age<18):\n",
    "    print(\"You can't vote..\")"
   ]
  },
  {
   "cell_type": "code",
   "execution_count": 10,
   "id": "7120d16a-f42f-4c72-b534-cdabc25980d9",
   "metadata": {},
   "outputs": [
    {
     "name": "stdout",
     "output_type": "stream",
     "text": [
      "Equals 5\n",
      "Greater than 4\n",
      "Greater than or equal to 5\n",
      "less than 6\n",
      "less than or Equal to 5\n",
      "Not equal to 6\n"
     ]
    }
   ],
   "source": [
    "x = 5\n",
    "\n",
    "if x == 5: \n",
    "    print(\"Equals 5\")\n",
    "if x > 4: \n",
    "    print(\"Greater than 4\")\n",
    "if x >= 5 : \n",
    "    print(\"Greater than or equal to 5\")\n",
    "if x < 6:\n",
    "    print(\"less than 6\")\n",
    "if x <= 5: \n",
    "    print(\"less than or Equal to 5\")\n",
    "if x !=6 : \n",
    "    print(\"Not equal to 6\")"
   ]
  },
  {
   "cell_type": "markdown",
   "id": "8768cfd8-64d9-4568-b993-0a3ee4b97219",
   "metadata": {},
   "source": [
    "# One way decision"
   ]
  },
  {
   "cell_type": "code",
   "execution_count": 11,
   "id": "c2f4df18-30ef-4e62-8894-2d6b345a282d",
   "metadata": {},
   "outputs": [
    {
     "name": "stdout",
     "output_type": "stream",
     "text": [
      "Before 5\n",
      "Is 5\n",
      "Is Still a 5\n",
      "Third 5\n",
      "Afterwards  5\n",
      "Before 6\n",
      "Afterwards 6\n"
     ]
    }
   ],
   "source": [
    "x = 5\n",
    "\n",
    "print(\"Before 5\")\n",
    "\n",
    "if x == 5 :\n",
    "    print(\"Is 5\")\n",
    "    print(\"Is Still a 5\")\n",
    "    print(\"Third 5\")\n",
    "    \n",
    "print(\"Afterwards  5\")\n",
    "print(\"Before 6\")\n",
    "\n",
    "if x == 6:\n",
    "    print(\"Is 6\")\n",
    "    print(\"Is still a 6\")\n",
    "    print(\"Thirf 6\")\n",
    "\n",
    "print(\"Afterwards 6\")"
   ]
  },
  {
   "cell_type": "markdown",
   "id": "4eb0c650-448c-4109-a1c8-5452068472b8",
   "metadata": {},
   "source": [
    "# Nested Decision"
   ]
  },
  {
   "cell_type": "code",
   "execution_count": 15,
   "id": "2e7aa1db-edcf-471a-a618-ff1d208edd1b",
   "metadata": {},
   "outputs": [
    {
     "name": "stdout",
     "output_type": "stream",
     "text": [
      "Greater than 1\n",
      "Smaller than 100\n",
      "All done...\n"
     ]
    }
   ],
   "source": [
    "x = 42\n",
    "\n",
    "if x > 1:\n",
    "    print(\"Greater than 1\")\n",
    "    if x < 100:                       # the nested if must start from the indent where the preious line starts (here print())\n",
    "            print(\"Smaller than 100\")\n",
    "\n",
    "print(\"All done...\")"
   ]
  },
  {
   "cell_type": "markdown",
   "id": "6587d8ad-57a0-43c8-8b04-cbc09c512301",
   "metadata": {},
   "source": [
    "# if-else (Two way decision)"
   ]
  },
  {
   "cell_type": "markdown",
   "id": "5fac6bb0-b43a-4877-aaeb-4fe37ca306f9",
   "metadata": {},
   "source": [
    "# if-elif (Multy way decision)"
   ]
  },
  {
   "cell_type": "code",
   "execution_count": 19,
   "id": "0d7bc51b-083f-4e16-b367-35236558ea5a",
   "metadata": {},
   "outputs": [
    {
     "name": "stdout",
     "output_type": "stream",
     "text": [
      "Small\n",
      "All Done...\n"
     ]
    }
   ],
   "source": [
    "x = 0\n",
    "\n",
    "if x < 2:\n",
    "    print(\"Small\")\n",
    "elif x < 10:           # this isnt printed as the previous if condition is statisfied. elif is executed only when the if condition is false even if the elif condtition is true\n",
    "    print(\"Medium\")\n",
    "else:\n",
    "    print(\"Large\")\n",
    "    \n",
    "print(\"All Done...\")"
   ]
  },
  {
   "cell_type": "code",
   "execution_count": 20,
   "id": "15bd0b19-c4cc-4352-a842-6a543f2212d0",
   "metadata": {},
   "outputs": [
    {
     "name": "stdout",
     "output_type": "stream",
     "text": [
      "Medium\n",
      "All Done...\n"
     ]
    }
   ],
   "source": [
    "x = 0\n",
    "\n",
    "if x > 2:\n",
    "    print(\"Small\")\n",
    "elif x < 10:           # this is now printed as the previous if condition is not statisfied. \n",
    "    print(\"Medium\")\n",
    "else:\n",
    "    print(\"Large\")\n",
    "    \n",
    "print(\"All Done...\")"
   ]
  },
  {
   "cell_type": "markdown",
   "id": "15a7c7dc-834d-480d-a214-780f13af94f1",
   "metadata": {},
   "source": [
    "# Exception Handling (try- except)"
   ]
  },
  {
   "cell_type": "code",
   "execution_count": 27,
   "id": "62a12d44-4d49-4eed-9e2f-c33dbf663870",
   "metadata": {},
   "outputs": [
    {
     "ename": "ValueError",
     "evalue": "invalid literal for int() with base 10: 'Hello Bob'",
     "output_type": "error",
     "traceback": [
      "\u001b[1;31m---------------------------------------------------------------------------\u001b[0m",
      "\u001b[1;31mValueError\u001b[0m                                Traceback (most recent call last)",
      "Cell \u001b[1;32mIn[27], line 2\u001b[0m\n\u001b[0;32m      1\u001b[0m astr \u001b[38;5;241m=\u001b[39m \u001b[38;5;124m'\u001b[39m\u001b[38;5;124mHello Bob\u001b[39m\u001b[38;5;124m'\u001b[39m\n\u001b[1;32m----> 2\u001b[0m istr \u001b[38;5;241m=\u001b[39m \u001b[38;5;28mint\u001b[39m(astr)\n\u001b[0;32m      3\u001b[0m \u001b[38;5;28mprint\u001b[39m(\u001b[38;5;124m'\u001b[39m\u001b[38;5;124mFirst\u001b[39m\u001b[38;5;124m'\u001b[39m, istr)\n\u001b[0;32m      5\u001b[0m astr \u001b[38;5;241m=\u001b[39m \u001b[38;5;124m'\u001b[39m\u001b[38;5;124m123\u001b[39m\u001b[38;5;124m'\u001b[39m\n",
      "\u001b[1;31mValueError\u001b[0m: invalid literal for int() with base 10: 'Hello Bob'"
     ]
    }
   ],
   "source": [
    "astr = 'Hello Bob'\n",
    "istr = int(astr)\n",
    "print('First', istr)\n",
    "\n",
    "astr = '123'\n",
    "istr = int(astr)\n",
    "print('Second', istr)"
   ]
  },
  {
   "cell_type": "code",
   "execution_count": 28,
   "id": "70e2e7f6-d872-4652-b2a2-00be7cf6d438",
   "metadata": {},
   "outputs": [
    {
     "name": "stdout",
     "output_type": "stream",
     "text": [
      "First -1\n",
      "Second 123\n"
     ]
    }
   ],
   "source": [
    "\n",
    "astr = 'Hello Bob'\n",
    "\n",
    "try:\n",
    "     istr = int(astr)\n",
    "except:\n",
    "     istr = -1\n",
    "print('First', istr)\n",
    "\n",
    "astr = '123'\n",
    "\n",
    "try:\n",
    "     istr = int(astr)\n",
    "except:\n",
    "     istr = -1\n",
    "\n",
    "print('Second', istr)"
   ]
  },
  {
   "cell_type": "code",
   "execution_count": 29,
   "id": "5efb721b-b71c-4c02-850d-d35e14ee27eb",
   "metadata": {},
   "outputs": [
    {
     "name": "stdout",
     "output_type": "stream",
     "text": [
      "Hello\n",
      "Done -1\n"
     ]
    }
   ],
   "source": [
    "astr = 'BOB'\n",
    "\n",
    "try:\n",
    "    print(\"Hello\")\n",
    "    istr = int(astr)\n",
    "    print(\"There\")\n",
    "\n",
    "except:\n",
    "    istr = -1\n",
    "\n",
    "print(\"Done\", istr)"
   ]
  },
  {
   "cell_type": "code",
   "execution_count": 32,
   "id": "c0bf118a-159f-4756-8be5-110928b384f1",
   "metadata": {},
   "outputs": [
    {
     "name": "stdout",
     "output_type": "stream",
     "text": [
      "Enter a number:  ?\n"
     ]
    },
    {
     "name": "stdout",
     "output_type": "stream",
     "text": [
      "Not a number\n"
     ]
    }
   ],
   "source": [
    "rawstr = input(\"Enter a number: \")\n",
    "\n",
    "try: \n",
    "    ival = int(rawstr)\n",
    "except:\n",
    "    ival = -1\n",
    "\n",
    "if ival > 0:\n",
    "    print(\"Nice Work\")\n",
    "else:\n",
    "    print(\"Not a number\")"
   ]
  },
  {
   "cell_type": "code",
   "execution_count": 34,
   "id": "559144a8-f4c0-47f8-b226-20622cf7fa83",
   "metadata": {},
   "outputs": [
    {
     "name": "stdout",
     "output_type": "stream",
     "text": [
      "Enter a number:  10\n"
     ]
    },
    {
     "name": "stdout",
     "output_type": "stream",
     "text": [
      "Nice Work\n"
     ]
    }
   ],
   "source": [
    "rawstr = input(\"Enter a number: \")\n",
    "\n",
    "try: \n",
    "    ival = int(rawstr)\n",
    "except:\n",
    "    ival = -1\n",
    "\n",
    "if ival > 0:\n",
    "    print(\"Nice Work\")\n",
    "else:\n",
    "    print(\"Not a number\")"
   ]
  },
  {
   "cell_type": "code",
   "execution_count": 37,
   "id": "fe005c89-f5fd-450e-9948-23acca0614ea",
   "metadata": {},
   "outputs": [
    {
     "name": "stdout",
     "output_type": "stream",
     "text": [
      "Enter your password:  12345\n"
     ]
    },
    {
     "name": "stdout",
     "output_type": "stream",
     "text": [
      "Yayyyy...\n"
     ]
    }
   ],
   "source": [
    "pd = input(\"Enter your password: \")\n",
    "\n",
    "try:\n",
    "    ival = int(pd)\n",
    "    if(ival == pd):\n",
    "            print(\"Your password is valid\")\n",
    "except:\n",
    "    ival = -1\n",
    "\n",
    "if ival > 0:\n",
    "    print(\"Yayyyy...\")\n",
    "else:\n",
    "    print(\"Not a valid passowrd\")"
   ]
  },
  {
   "cell_type": "code",
   "execution_count": 44,
   "id": "6d25dd1f-a419-4438-a595-d9305248c117",
   "metadata": {},
   "outputs": [
    {
     "name": "stdout",
     "output_type": "stream",
     "text": [
      "Enter the work hours:  10\n",
      "Enter the pay per hour:  15\n"
     ]
    },
    {
     "name": "stdout",
     "output_type": "stream",
     "text": [
      "Your wage is: Rs. 150\n"
     ]
    }
   ],
   "source": [
    "\n",
    "hrs = input(\"Enter the work hours: \")\n",
    "rate = input(\"Enter the pay per hour: \")\n",
    "\n",
    "try:\n",
    "    ihrs = int(hrs)\n",
    "    irate = int(rate)\n",
    "\n",
    "except:\n",
    "    ihrs = -1\n",
    "    irate = -1\n",
    "\n",
    "if(ihrs>0 and irate>0):\n",
    "    print(\"Your wage is: Rs.\", ihrs*irate)\n",
    "else:\n",
    "    print(\"Enter correct details...\")"
   ]
  },
  {
   "cell_type": "code",
   "execution_count": null,
   "id": "708a5b37-a9ca-4bfd-b665-66565a1479f6",
   "metadata": {},
   "outputs": [],
   "source": []
  }
 ],
 "metadata": {
  "kernelspec": {
   "display_name": "Python 3",
   "language": "python",
   "name": "python3"
  },
  "language_info": {
   "codemirror_mode": {
    "name": "ipython",
    "version": 3
   },
   "file_extension": ".py",
   "mimetype": "text/x-python",
   "name": "python",
   "nbconvert_exporter": "python",
   "pygments_lexer": "ipython3",
   "version": "3.13.3"
  }
 },
 "nbformat": 4,
 "nbformat_minor": 5
}
